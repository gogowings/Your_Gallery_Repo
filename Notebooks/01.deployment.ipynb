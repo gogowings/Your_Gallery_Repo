{
  "cells": [
    {
      "metadata": {},
      "cell_type": "markdown",
      "source": "Copyright (c) Microsoft Corporation. All rights reserved.\n\nLicensed under the MIT License."
    },
    {
      "metadata": {},
      "cell_type": "markdown",
      "source": "## Prototype: Deploy Inception Model \n\nPrototype for Gallery scenario"
    },
    {
      "metadata": {},
      "cell_type": "markdown",
      "source": "### Download Inception V3 Models"
    },
    {
      "metadata": {
        "trusted": true,
        "scrolled": true
      },
      "cell_type": "code",
      "source": "import time\n\nstart = time.time()\n\n!wget -nc -P model/ http://download.tensorflow.org/models/image/imagenet/inception-2015-12-05.tgz\n!tar xvzf model/inception-2015-12-05.tgz -C model/\n!rm model/cropped_panda.jpg\n!rm model/inception-2015-12-05.tgz\n    \nend = time.time()\nprint(\"Model download latency: {} seconds\".format(end-start))",
      "execution_count": null,
      "outputs": []
    },
    {
      "metadata": {},
      "cell_type": "markdown",
      "source": "### Load AML Workspace"
    },
    {
      "metadata": {
        "trusted": true
      },
      "cell_type": "code",
      "source": "from azureml.core import Workspace\nws = Workspace.from_config()\nprint(ws.name, ws.subscription_id, ws.resource_group, ws.location)",
      "execution_count": null,
      "outputs": []
    },
    {
      "metadata": {},
      "cell_type": "markdown",
      "source": "### Register InceptionV3 Models to MMS\n\nIt contains multiple models"
    },
    {
      "metadata": {
        "trusted": true
      },
      "cell_type": "code",
      "source": "from azureml.core.model import Model\n\nmodels = []\n\nstart = time.time()\nnew_model = Model.register(\n    workspace = ws,\n    model_path = \"model/classify_image_graph_def.pb\",\n    model_name = \"classify_image_graph_def\")\nmodels.append(new_model)\n\nend = time.time()\nprint(\"Register model latency: {} seconds\".format(end-start))\nprint(\"Model id={}, name={}, created time={}\".format(\n    new_model.id, \n    new_model.name, \n    new_model.created_time))",
      "execution_count": null,
      "outputs": []
    },
    {
      "metadata": {
        "trusted": true
      },
      "cell_type": "code",
      "source": "start = time.time()\nnew_model = Model.register(\n    workspace = ws,\n    model_path = \"model/imagenet_2012_challenge_label_map_proto.pbtxt\",\n    model_name = \"imagenet_label_map\")\nmodels.append(new_model)\n\nend = time.time()\nprint(\"Register model latency: {} seconds\".format(end-start))\nprint(\"Model id={}, name={}, created time={}\".format(\n    new_model.id, \n    new_model.name, \n    new_model.created_time))",
      "execution_count": null,
      "outputs": []
    },
    {
      "metadata": {
        "trusted": true
      },
      "cell_type": "code",
      "source": "start = time.time()\nnew_model = Model.register(\n    workspace = ws,\n    model_path = \"model/imagenet_synset_to_human_label_map.txt\",\n    model_name = \"imagenet_s2h_label_map\")\nmodels.append(new_model)\n\nend = time.time()\nprint(\"Register model latency: {} seconds\".format(end-start))\nprint(\"Model id={}, name={}, created time={}\".format(\n    new_model.id, \n    new_model.name, \n    new_model.created_time))",
      "execution_count": null,
      "outputs": []
    },
    {
      "metadata": {},
      "cell_type": "markdown",
      "source": "### Build Container Image "
    },
    {
      "metadata": {
        "trusted": true
      },
      "cell_type": "code",
      "source": "from azureml.core.image import Image, ContainerImage\n\nimage_config = ContainerImage.image_configuration(\n    execution_script = \"score.py\",\n    runtime = \"python\", \n    dependencies = [\"app.py\", \"ui.html\", \"inception.py\"],\n    conda_file = \"env.yml\")\n\nstart = time.time()\nimage = Image.create(\n    workspace = ws,\n    name = \"inception-v3-demo-image\",\n    models = models,\n    image_config = image_config\n)\n\nimage.wait_for_creation(show_output = True)\n\nend = time.time()\nprint(\"Image creation latency: {} seconds\".format(end-start))\nprint(image)",
      "execution_count": null,
      "outputs": []
    },
    {
      "metadata": {},
      "cell_type": "markdown",
      "source": "### Deploy Image to ACI"
    },
    {
      "metadata": {
        "trusted": true
      },
      "cell_type": "code",
      "source": "from azureml.core.webservice import AciWebservice, Webservice\n\naci_config = AciWebservice.deploy_configuration(cpu_cores = 1, memory_gb = 1)\n\nstart = time.time()\naci_service = Webservice.deploy_from_image(\n    workspace = ws,\n    name = \"inception-v3-demo-service\",\n    image = image,\n    deployment_config = aci_config)\naci_service.wait_for_deployment(show_output = True)\n\nend = time.time()\nprint(\"Service deployment latency: {} seconds\".format(end-start))",
      "execution_count": null,
      "outputs": []
    },
    {
      "metadata": {},
      "cell_type": "markdown",
      "source": "### Run Inference\n\n*TODO*: Make it UX friendly via either run a script with sample data or let us consume the UI page\n"
    },
    {
      "metadata": {
        "trusted": true
      },
      "cell_type": "code",
      "source": "# Get demo URL \ndemo_uri = aci_service.scoring_uri.replace(\"/score\", \"/ui\")\nprint(\"Try out the inceptionv2 model at {}\".format(demo_uri))",
      "execution_count": null,
      "outputs": []
    },
    {
      "metadata": {},
      "cell_type": "markdown",
      "source": "### Cleanup Resources\n\nDelete the web serivce, image, and models"
    },
    {
      "metadata": {
        "trusted": true
      },
      "cell_type": "code",
      "source": "aci_service.delete()\nimage.delete()\nfor m in models:\n    m.delete()\nprint(\"Successfully deleted models, image and service.\")",
      "execution_count": null,
      "outputs": []
    },
    {
      "metadata": {
        "trusted": true
      },
      "cell_type": "code",
      "source": "",
      "execution_count": null,
      "outputs": []
    }
  ],
  "metadata": {
    "kernelspec": {
      "name": "python36",
      "display_name": "Python 3.6",
      "language": "python"
    },
    "language_info": {
      "mimetype": "text/x-python",
      "nbconvert_exporter": "python",
      "name": "python",
      "pygments_lexer": "ipython3",
      "version": "3.6.6",
      "file_extension": ".py",
      "codemirror_mode": {
        "version": 3,
        "name": "ipython"
      }
    }
  },
  "nbformat": 4,
  "nbformat_minor": 2
}
